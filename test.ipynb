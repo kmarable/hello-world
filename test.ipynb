import numpy as np


f= open("README.md", "r")


contents = f.read()
print(contents)
